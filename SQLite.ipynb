{
 "cells": [
  {
   "cell_type": "code",
   "execution_count": 7,
   "id": "initial_id",
   "metadata": {
    "collapsed": true,
    "ExecuteTime": {
     "end_time": "2024-01-05T01:52:47.179939Z",
     "start_time": "2024-01-05T01:52:47.174540Z"
    }
   },
   "outputs": [],
   "source": [
    "import sqlite3\n",
    "\n",
    "\n",
    "database_file = 'sqlite_db_pythonsqlite.db'\n",
    "\n",
    "\n",
    "connection = sqlite3.connect(database_file)\n",
    "\n",
    "\n",
    "cursor = connection.cursor()"
   ]
  },
  {
   "cell_type": "code",
   "execution_count": null,
   "outputs": [],
   "source": [],
   "metadata": {
    "collapsed": false
   },
   "id": "e708d15b3d3759ba"
  },
  {
   "cell_type": "code",
   "execution_count": 10,
   "outputs": [
    {
     "name": "stdout",
     "output_type": "stream",
     "text": [
      "[('Table Tennis', 180), ('Snooker Table', 240), ('Pool Table', 270)]\n"
     ]
    }
   ],
   "source": [
    "cursor.execute(\"\"\"\n",
    "    SELECT\n",
    "        facility_name,\n",
    "        total_revenue\n",
    "    FROM (\n",
    "        SELECT\n",
    "            f.name AS facility_name,\n",
    "            SUM(CASE WHEN b.memid = 0 THEN f.guestcost * b.slots ELSE f.membercost * b.slots END) AS total_revenue\n",
    "        FROM\n",
    "            Bookings AS b\n",
    "        JOIN\n",
    "            Facilities AS f ON b.facid = f.facid\n",
    "        GROUP BY\n",
    "            facility_name\n",
    "    ) AS subquery\n",
    "    WHERE\n",
    "        total_revenue < 1000\n",
    "    ORDER BY\n",
    "        total_revenue;\n",
    "\"\"\")\n",
    "result = cursor.fetchall()\n",
    "print(result)"
   ],
   "metadata": {
    "collapsed": false,
    "ExecuteTime": {
     "end_time": "2024-01-05T01:57:16.019234Z",
     "start_time": "2024-01-05T01:57:16.007842Z"
    }
   },
   "id": "44064fbda33d1b94"
  },
  {
   "cell_type": "code",
   "execution_count": 11,
   "outputs": [
    {
     "name": "stdout",
     "output_type": "stream",
     "text": [
      "[('Bader', 'Florence', 'Stibbons', 'Ponder'), ('Baker', 'Anne', 'Stibbons', 'Ponder'), ('Baker', 'Timothy', 'Farrell', 'Jemima'), ('Boothe', 'Tim', 'Rownam', 'Tim'), ('Butters', 'Gerald', 'Smith', 'Darren'), ('Coplin', 'Joan', 'Baker', 'Timothy'), ('Crumpet', 'Erica', 'Smith', 'Tracy'), ('Dare', 'Nancy', 'Joplette', 'Janice'), ('Farrell', 'David', None, None), ('Farrell', 'Jemima', None, None), ('GUEST', 'GUEST', None, None), ('Genting', 'Matthew', 'Butters', 'Gerald'), ('Hunt', 'John', 'Purview', 'Millicent'), ('Jones', 'David', 'Joplette', 'Janice'), ('Jones', 'Douglas', 'Jones', 'David'), ('Joplette', 'Janice', 'Smith', 'Darren'), ('Mackenzie', 'Anna', 'Smith', 'Darren'), ('Owen', 'Charles', 'Smith', 'Darren'), ('Pinker', 'David', 'Farrell', 'Jemima'), ('Purview', 'Millicent', 'Smith', 'Tracy'), ('Rownam', 'Tim', None, None), ('Rumney', 'Henrietta', 'Genting', 'Matthew'), ('Sarwin', 'Ramnaresh', 'Bader', 'Florence'), ('Smith', 'Darren', None, None), ('Smith', 'Darren', None, None), ('Smith', 'Jack', 'Smith', 'Darren'), ('Smith', 'Tracy', None, None), ('Stibbons', 'Ponder', 'Tracy', 'Burton'), ('Tracy', 'Burton', None, None), ('Tupperware', 'Hyacinth', None, None), ('Worthington-Smyth', 'Henry', 'Smith', 'Tracy')]\n"
     ]
    }
   ],
   "source": [
    "cursor.execute(\"\"\"\n",
    "    SELECT\n",
    "        m.surname AS member_surname,\n",
    "        m.firstname AS member_firstname,\n",
    "        r.surname AS recommended_by_surname,\n",
    "        r.firstname AS recommended_by_firstname\n",
    "    FROM\n",
    "        Members AS m\n",
    "    LEFT JOIN\n",
    "        Members AS r ON m.recommendedby = r.memid\n",
    "    ORDER BY\n",
    "        m.surname, m.firstname;\n",
    "\"\"\")\n",
    "result = cursor.fetchall()\n",
    "print(result)"
   ],
   "metadata": {
    "collapsed": false,
    "ExecuteTime": {
     "end_time": "2024-01-05T01:58:42.687009Z",
     "start_time": "2024-01-05T01:58:42.683763Z"
    }
   },
   "id": "4ef402f4427d5f27"
  },
  {
   "cell_type": "code",
   "execution_count": 12,
   "outputs": [
    {
     "name": "stdout",
     "output_type": "stream",
     "text": [
      "('Badminton Court', 344)\n",
      "('Massage Room 1', 421)\n",
      "('Massage Room 2', 27)\n",
      "('Pool Table', 783)\n",
      "('Snooker Table', 421)\n",
      "('Squash Court', 195)\n",
      "('Table Tennis', 385)\n",
      "('Tennis Court 1', 308)\n",
      "('Tennis Court 2', 276)\n"
     ]
    }
   ],
   "source": [
    "cursor.execute(\"\"\"\n",
    "    SELECT\n",
    "        f.name AS facility_name,\n",
    "        COUNT(b.memid) AS usage_by_members\n",
    "    FROM\n",
    "        Bookings AS b\n",
    "    JOIN\n",
    "        Facilities AS f ON b.facid = f.facid\n",
    "    WHERE\n",
    "        b.memid <> 0\n",
    "    GROUP BY\n",
    "        facility_name;\n",
    "\"\"\")\n",
    "result = cursor.fetchall()\n",
    "for row in result:\n",
    "    print(row)\n"
   ],
   "metadata": {
    "collapsed": false,
    "ExecuteTime": {
     "end_time": "2024-01-05T02:00:48.223509Z",
     "start_time": "2024-01-05T02:00:48.217515Z"
    }
   },
   "id": "58096b16d5ff502b"
  },
  {
   "cell_type": "code",
   "execution_count": 13,
   "outputs": [
    {
     "name": "stdout",
     "output_type": "stream",
     "text": [
      "('2012-07', 'Badminton Court', 51)\n",
      "('2012-07', 'Massage Room 1', 77)\n",
      "('2012-07', 'Massage Room 2', 4)\n",
      "('2012-07', 'Pool Table', 103)\n",
      "('2012-07', 'Snooker Table', 68)\n",
      "('2012-07', 'Squash Court', 23)\n",
      "('2012-07', 'Table Tennis', 48)\n",
      "('2012-07', 'Tennis Court 1', 65)\n",
      "('2012-07', 'Tennis Court 2', 41)\n",
      "('2012-08', 'Badminton Court', 132)\n",
      "('2012-08', 'Massage Room 1', 153)\n",
      "('2012-08', 'Massage Room 2', 9)\n",
      "('2012-08', 'Pool Table', 272)\n",
      "('2012-08', 'Snooker Table', 154)\n",
      "('2012-08', 'Squash Court', 85)\n",
      "('2012-08', 'Table Tennis', 143)\n",
      "('2012-08', 'Tennis Court 1', 111)\n",
      "('2012-08', 'Tennis Court 2', 109)\n",
      "('2012-09', 'Badminton Court', 161)\n",
      "('2012-09', 'Massage Room 1', 191)\n",
      "('2012-09', 'Massage Room 2', 14)\n",
      "('2012-09', 'Pool Table', 408)\n",
      "('2012-09', 'Snooker Table', 199)\n",
      "('2012-09', 'Squash Court', 87)\n",
      "('2012-09', 'Table Tennis', 194)\n",
      "('2012-09', 'Tennis Court 1', 132)\n",
      "('2012-09', 'Tennis Court 2', 126)\n"
     ]
    }
   ],
   "source": [
    "cursor.execute(\"\"\"\n",
    "    SELECT\n",
    "        strftime('%Y-%m', b.starttime) AS month,\n",
    "        f.name AS facility_name,\n",
    "        COUNT(b.memid) AS usage_by_members\n",
    "    FROM\n",
    "        Bookings AS b\n",
    "    JOIN\n",
    "        Facilities AS f ON b.facid = f.facid\n",
    "    WHERE\n",
    "        b.memid <> 0\n",
    "    GROUP BY\n",
    "        month, facility_name\n",
    "    ORDER BY\n",
    "        month, facility_name;\n",
    "\"\"\")\n",
    "result = cursor.fetchall()\n",
    "for row in result:\n",
    "    print(row)\n"
   ],
   "metadata": {
    "collapsed": false,
    "ExecuteTime": {
     "end_time": "2024-01-05T02:01:56.913719Z",
     "start_time": "2024-01-05T02:01:56.904036Z"
    }
   },
   "id": "34d1c7bafe6e4ebf"
  },
  {
   "cell_type": "code",
   "execution_count": null,
   "outputs": [],
   "source": [],
   "metadata": {
    "collapsed": false
   },
   "id": "13bfa961081b36e2"
  }
 ],
 "metadata": {
  "kernelspec": {
   "display_name": "Python 3",
   "language": "python",
   "name": "python3"
  },
  "language_info": {
   "codemirror_mode": {
    "name": "ipython",
    "version": 2
   },
   "file_extension": ".py",
   "mimetype": "text/x-python",
   "name": "python",
   "nbconvert_exporter": "python",
   "pygments_lexer": "ipython2",
   "version": "2.7.6"
  }
 },
 "nbformat": 4,
 "nbformat_minor": 5
}
